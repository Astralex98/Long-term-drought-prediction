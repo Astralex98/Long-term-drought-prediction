{
 "cells": [
  {
   "cell_type": "markdown",
   "id": "f83f3117",
   "metadata": {},
   "source": [
    "## 1. Read preprocessed data"
   ]
  },
  {
   "cell_type": "code",
   "execution_count": 1,
   "id": "eb0157e2",
   "metadata": {},
   "outputs": [
    {
     "name": "stderr",
     "output_type": "stream",
     "text": [
      "/Users/vgrabar/miniconda3/envs/classic/lib/python3.8/site-packages/tqdm/auto.py:21: TqdmWarning: IProgress not found. Please update jupyter and ipywidgets. See https://ipywidgets.readthedocs.io/en/stable/user_install.html\n",
      "  from .autonotebook import tqdm as notebook_tqdm\n"
     ]
    }
   ],
   "source": [
    "import pandas as pd\n",
    "import numpy as np\n",
    "import torch\n",
    "from xgboost import XGBClassifier\n",
    "\n",
    "# Import class for dataset creating\n",
    "from data_creator.create_dataset_for_one_model_with_neighbours import AllPointsDatasetCreator\n",
    "\n",
    "# Import csv -> torch converter\n",
    "from data_creator.utils import create_celled_data"
   ]
  },
  {
   "cell_type": "code",
   "execution_count": 3,
   "id": "fad9ffb5",
   "metadata": {},
   "outputs": [
    {
     "name": "stdout",
     "output_type": "stream",
     "text": [
      "file ../data/celled/missouri_pdsi.csv already exists\n"
     ]
    }
   ],
   "source": [
    "\n",
    "# dataset_name from ../data/preprocessed/\n",
    "dataset_name = \"missouri_pdsi.csv\"\n",
    "torch_data = create_celled_data(dataset_name)\n"
   ]
  },
  {
   "cell_type": "code",
   "execution_count": 4,
   "id": "37f55951",
   "metadata": {},
   "outputs": [],
   "source": [
    "numpy_data = torch_data.numpy()"
   ]
  },
  {
   "cell_type": "code",
   "execution_count": 5,
   "id": "229686e8",
   "metadata": {},
   "outputs": [
    {
     "data": {
      "text/plain": [
       "(752, 138, 104)"
      ]
     },
     "execution_count": 5,
     "metadata": {},
     "output_type": "execute_result"
    }
   ],
   "source": [
    "numpy_data.shape"
   ]
  },
  {
   "cell_type": "markdown",
   "id": "770e723e",
   "metadata": {},
   "source": [
    "## 2. Preparing data"
   ]
  },
  {
   "cell_type": "code",
   "execution_count": 7,
   "id": "acf029bd",
   "metadata": {},
   "outputs": [],
   "source": [
    "hist_len = 1\n",
    "num_of_future_indexes = 12\n",
    "x_min = 1\n",
    "x_max = numpy_data.shape[1]\n",
    "y_min = 1\n",
    "y_max = numpy_data.shape[2]\n",
    "pdsi_threshold = [-2]\n",
    "filter_size = (1,1)\n",
    "data_creator = AllPointsDatasetCreator(numpy_data, history_len = hist_len, \n",
    "                                       num_of_future_indexes = num_of_future_indexes, \n",
    "                                       time_border = int(0.7 * numpy_data.shape[0]),\n",
    "                                       x_min = x_min, x_max = x_max, y_min = y_min, y_max = y_max,\n",
    "                                       filter_size = filter_size,\n",
    "                                       pdsi_threshold = pdsi_threshold)"
   ]
  },
  {
   "cell_type": "code",
   "execution_count": 8,
   "id": "e09094ed",
   "metadata": {},
   "outputs": [],
   "source": [
    "# the most time-consuming procedure\n",
    "data_creator.create_train_and_test_datasets()"
   ]
  },
  {
   "cell_type": "code",
   "execution_count": 9,
   "id": "5190d26a",
   "metadata": {},
   "outputs": [],
   "source": [
    "train = data_creator.get_train_array()"
   ]
  },
  {
   "cell_type": "code",
   "execution_count": 10,
   "id": "3e775a38",
   "metadata": {},
   "outputs": [],
   "source": [
    "test_by_point = data_creator.get_test_array_by_points()"
   ]
  },
  {
   "cell_type": "code",
   "execution_count": 11,
   "id": "27106145",
   "metadata": {},
   "outputs": [],
   "source": [
    "# Separate data and target from each other.\n",
    "trainX, trainy = train[:, :-num_of_future_indexes], train[:, -num_of_future_indexes:]"
   ]
  },
  {
   "cell_type": "code",
   "execution_count": 12,
   "id": "3adf57c8",
   "metadata": {},
   "outputs": [
    {
     "data": {
      "text/plain": [
       "(7422386, 1)"
      ]
     },
     "execution_count": 12,
     "metadata": {},
     "output_type": "execute_result"
    }
   ],
   "source": [
    "trainX.shape"
   ]
  },
  {
   "cell_type": "markdown",
   "id": "b1c82c37",
   "metadata": {},
   "source": [
    "## 3. Fitting and testing Linear classifier"
   ]
  },
  {
   "cell_type": "code",
   "execution_count": 13,
   "id": "0490c037",
   "metadata": {},
   "outputs": [],
   "source": [
    "from sklearn.metrics import roc_auc_score, f1_score, average_precision_score, accuracy_score\n",
    "from sklearn.linear_model import LogisticRegression"
   ]
  },
  {
   "cell_type": "code",
   "execution_count": 14,
   "id": "da87a8fc",
   "metadata": {},
   "outputs": [],
   "source": [
    "# list of forecasting horizons\n",
    "forecast_hors = list(range(num_of_future_indexes))\n",
    "\n",
    "# list of final metric values\n",
    "metric_list = []"
   ]
  },
  {
   "cell_type": "code",
   "execution_count": 15,
   "id": "002c4751",
   "metadata": {},
   "outputs": [],
   "source": [
    "# For each horizon we train own linear classifier\n",
    "for horizon in forecast_hors:\n",
    "    \n",
    "    ### Train linear classifier\n",
    "    model = LogisticRegression()\n",
    "    model.fit(trainX, trainy[:, horizon])\n",
    "    \n",
    "    \n",
    "    tmp_metric_list = []\n",
    "    \n",
    "    for ind in range((x_max - x_min)*(y_max - y_min)):\n",
    "        testX, testy = test_by_point[ind][:, :-num_of_future_indexes], test_by_point[ind][:, -num_of_future_indexes:]\n",
    "        pred = model.predict(testX)\n",
    "        metric = None\n",
    "        try:\n",
    "            metric = roc_auc_score(testy[:, horizon], pred)\n",
    "        except ValueError:\n",
    "            metric = 0\n",
    "        tmp_metric_list.append(metric)\n",
    "    \n",
    "    median_metric = np.median(tmp_metric_list)\n",
    "    metric_list.append(median_metric)"
   ]
  },
  {
   "cell_type": "code",
   "execution_count": 16,
   "id": "af5310f7",
   "metadata": {},
   "outputs": [
    {
     "name": "stdout",
     "output_type": "stream",
     "text": [
      "ROC AUC for [ 1  2  3  4  5  6  7  8  9 10 11 12] months forecast\n",
      "[0.9003 0.8371 0.7885 0.7444 0.7015 0.6655 0.6233 0.5788 0.5328 0.5\n",
      " 0.5    0.5   ]\n"
     ]
    }
   ],
   "source": [
    "print(f\"ROC AUC for {np.arange(1, num_of_future_indexes+1)} months forecast\")\n",
    "print(np.round(metric_list, 4))"
   ]
  }
 ],
 "metadata": {
  "kernelspec": {
   "display_name": "test_env",
   "language": "python",
   "name": "python3"
  },
  "language_info": {
   "codemirror_mode": {
    "name": "ipython",
    "version": 3
   },
   "file_extension": ".py",
   "mimetype": "text/x-python",
   "name": "python",
   "nbconvert_exporter": "python",
   "pygments_lexer": "ipython3",
   "version": "3.8.18"
  }
 },
 "nbformat": 4,
 "nbformat_minor": 5
}
