{
 "cells": [
  {
   "cell_type": "markdown",
   "id": "f83f3117",
   "metadata": {},
   "source": [
    "## 1. Read raw data"
   ]
  },
  {
   "cell_type": "code",
   "execution_count": 1,
   "id": "eb0157e2",
   "metadata": {},
   "outputs": [
    {
     "name": "stderr",
     "output_type": "stream",
     "text": [
      "/Users/vgrabar/miniconda3/envs/classic/lib/python3.8/site-packages/tqdm/auto.py:21: TqdmWarning: IProgress not found. Please update jupyter and ipywidgets. See https://ipywidgets.readthedocs.io/en/stable/user_install.html\n",
      "  from .autonotebook import tqdm as notebook_tqdm\n"
     ]
    }
   ],
   "source": [
    "import pandas as pd\n",
    "import numpy as np\n",
    "import torch\n",
    "from xgboost import XGBClassifier\n",
    "\n",
    "# Import class for dataset creating\n",
    "from data_creator.create_dataset_for_one_model_with_neighbours import AllPointsDatasetCreator\n",
    "\n",
    "# Import csv -> torch converter\n",
    "from data_creator.utils import create_celled_data"
   ]
  },
  {
   "cell_type": "code",
   "execution_count": 2,
   "id": "1569a65c",
   "metadata": {},
   "outputs": [
    {
     "name": "stdout",
     "output_type": "stream",
     "text": [
      "file ../data/celled/missouri_pdsi.csv already exists\n"
     ]
    }
   ],
   "source": [
    "# dataset_name from ../data/preprocessed/\n",
    "dataset_name = \"missouri_pdsi.csv\"\n",
    "torch_data = create_celled_data(dataset_name)"
   ]
  },
  {
   "cell_type": "code",
   "execution_count": 3,
   "id": "37f55951",
   "metadata": {},
   "outputs": [],
   "source": [
    "numpy_data = torch_data.numpy()"
   ]
  },
  {
   "cell_type": "code",
   "execution_count": 4,
   "id": "229686e8",
   "metadata": {},
   "outputs": [
    {
     "data": {
      "text/plain": [
       "(752, 138, 104)"
      ]
     },
     "execution_count": 4,
     "metadata": {},
     "output_type": "execute_result"
    }
   ],
   "source": [
    "numpy_data.shape"
   ]
  },
  {
   "cell_type": "markdown",
   "id": "770e723e",
   "metadata": {},
   "source": [
    "## 2. Preparing data"
   ]
  },
  {
   "cell_type": "code",
   "execution_count": 5,
   "id": "acf029bd",
   "metadata": {},
   "outputs": [],
   "source": [
    "hist_len = 2\n",
    "num_of_future_indexes = 12\n",
    "x_min = 1\n",
    "x_max = numpy_data.shape[1]\n",
    "y_min = 1\n",
    "y_max = numpy_data.shape[2]\n",
    "pdsi_threshold = -2\n",
    "filter_size = (1,1)\n",
    "data_creator = AllPointsDatasetCreator(numpy_data, history_len = hist_len, \n",
    "                                       num_of_future_indexes = num_of_future_indexes, \n",
    "                                       time_border = int(0.7 * numpy_data.shape[0]),\n",
    "                                       x_min = x_min, x_max = x_max, y_min = y_min, y_max = y_max,\n",
    "                                       filter_size = filter_size,\n",
    "                                       pdsi_threshold = pdsi_threshold)"
   ]
  },
  {
   "cell_type": "code",
   "execution_count": 6,
   "id": "e09094ed",
   "metadata": {},
   "outputs": [],
   "source": [
    "data_creator.create_train_and_test_datasets()"
   ]
  },
  {
   "cell_type": "code",
   "execution_count": 7,
   "id": "5190d26a",
   "metadata": {},
   "outputs": [],
   "source": [
    "train = data_creator.get_train_array()"
   ]
  },
  {
   "cell_type": "code",
   "execution_count": 8,
   "id": "3e775a38",
   "metadata": {},
   "outputs": [],
   "source": [
    "test_by_point = data_creator.get_test_array_by_points()"
   ]
  },
  {
   "cell_type": "code",
   "execution_count": 9,
   "id": "27106145",
   "metadata": {},
   "outputs": [],
   "source": [
    "# Separate data and target from each other.\n",
    "trainX, trainy = train[:, :-num_of_future_indexes], train[:, -num_of_future_indexes:]"
   ]
  },
  {
   "cell_type": "code",
   "execution_count": 10,
   "id": "3adf57c8",
   "metadata": {},
   "outputs": [
    {
     "data": {
      "text/plain": [
       "(7408275, 2)"
      ]
     },
     "execution_count": 10,
     "metadata": {},
     "output_type": "execute_result"
    }
   ],
   "source": [
    "trainX.shape"
   ]
  },
  {
   "cell_type": "code",
   "execution_count": 11,
   "id": "3901220d",
   "metadata": {},
   "outputs": [
    {
     "data": {
      "text/plain": [
       "(7408275, 12)"
      ]
     },
     "execution_count": 11,
     "metadata": {},
     "output_type": "execute_result"
    }
   ],
   "source": [
    "trainy.shape"
   ]
  },
  {
   "cell_type": "markdown",
   "id": "b1c82c37",
   "metadata": {},
   "source": [
    "## 3. Fitting XGBoost"
   ]
  },
  {
   "cell_type": "code",
   "execution_count": 12,
   "id": "5704d49e",
   "metadata": {},
   "outputs": [
    {
     "data": {
      "text/html": [
       "<style>#sk-container-id-1 {color: black;}#sk-container-id-1 pre{padding: 0;}#sk-container-id-1 div.sk-toggleable {background-color: white;}#sk-container-id-1 label.sk-toggleable__label {cursor: pointer;display: block;width: 100%;margin-bottom: 0;padding: 0.3em;box-sizing: border-box;text-align: center;}#sk-container-id-1 label.sk-toggleable__label-arrow:before {content: \"▸\";float: left;margin-right: 0.25em;color: #696969;}#sk-container-id-1 label.sk-toggleable__label-arrow:hover:before {color: black;}#sk-container-id-1 div.sk-estimator:hover label.sk-toggleable__label-arrow:before {color: black;}#sk-container-id-1 div.sk-toggleable__content {max-height: 0;max-width: 0;overflow: hidden;text-align: left;background-color: #f0f8ff;}#sk-container-id-1 div.sk-toggleable__content pre {margin: 0.2em;color: black;border-radius: 0.25em;background-color: #f0f8ff;}#sk-container-id-1 input.sk-toggleable__control:checked~div.sk-toggleable__content {max-height: 200px;max-width: 100%;overflow: auto;}#sk-container-id-1 input.sk-toggleable__control:checked~label.sk-toggleable__label-arrow:before {content: \"▾\";}#sk-container-id-1 div.sk-estimator input.sk-toggleable__control:checked~label.sk-toggleable__label {background-color: #d4ebff;}#sk-container-id-1 div.sk-label input.sk-toggleable__control:checked~label.sk-toggleable__label {background-color: #d4ebff;}#sk-container-id-1 input.sk-hidden--visually {border: 0;clip: rect(1px 1px 1px 1px);clip: rect(1px, 1px, 1px, 1px);height: 1px;margin: -1px;overflow: hidden;padding: 0;position: absolute;width: 1px;}#sk-container-id-1 div.sk-estimator {font-family: monospace;background-color: #f0f8ff;border: 1px dotted black;border-radius: 0.25em;box-sizing: border-box;margin-bottom: 0.5em;}#sk-container-id-1 div.sk-estimator:hover {background-color: #d4ebff;}#sk-container-id-1 div.sk-parallel-item::after {content: \"\";width: 100%;border-bottom: 1px solid gray;flex-grow: 1;}#sk-container-id-1 div.sk-label:hover label.sk-toggleable__label {background-color: #d4ebff;}#sk-container-id-1 div.sk-serial::before {content: \"\";position: absolute;border-left: 1px solid gray;box-sizing: border-box;top: 0;bottom: 0;left: 50%;z-index: 0;}#sk-container-id-1 div.sk-serial {display: flex;flex-direction: column;align-items: center;background-color: white;padding-right: 0.2em;padding-left: 0.2em;position: relative;}#sk-container-id-1 div.sk-item {position: relative;z-index: 1;}#sk-container-id-1 div.sk-parallel {display: flex;align-items: stretch;justify-content: center;background-color: white;position: relative;}#sk-container-id-1 div.sk-item::before, #sk-container-id-1 div.sk-parallel-item::before {content: \"\";position: absolute;border-left: 1px solid gray;box-sizing: border-box;top: 0;bottom: 0;left: 50%;z-index: -1;}#sk-container-id-1 div.sk-parallel-item {display: flex;flex-direction: column;z-index: 1;position: relative;background-color: white;}#sk-container-id-1 div.sk-parallel-item:first-child::after {align-self: flex-end;width: 50%;}#sk-container-id-1 div.sk-parallel-item:last-child::after {align-self: flex-start;width: 50%;}#sk-container-id-1 div.sk-parallel-item:only-child::after {width: 0;}#sk-container-id-1 div.sk-dashed-wrapped {border: 1px dashed gray;margin: 0 0.4em 0.5em 0.4em;box-sizing: border-box;padding-bottom: 0.4em;background-color: white;}#sk-container-id-1 div.sk-label label {font-family: monospace;font-weight: bold;display: inline-block;line-height: 1.2em;}#sk-container-id-1 div.sk-label-container {text-align: center;}#sk-container-id-1 div.sk-container {/* jupyter's `normalize.less` sets `[hidden] { display: none; }` but bootstrap.min.css set `[hidden] { display: none !important; }` so we also need the `!important` here to be able to override the default hidden behavior on the sphinx rendered scikit-learn.org. See: https://github.com/scikit-learn/scikit-learn/issues/21755 */display: inline-block !important;position: relative;}#sk-container-id-1 div.sk-text-repr-fallback {display: none;}</style><div id=\"sk-container-id-1\" class=\"sk-top-container\"><div class=\"sk-text-repr-fallback\"><pre>XGBClassifier(base_score=None, booster=None, callbacks=None,\n",
       "              colsample_bylevel=None, colsample_bynode=None,\n",
       "              colsample_bytree=None, device=None, early_stopping_rounds=None,\n",
       "              enable_categorical=False, eval_metric=None, feature_types=None,\n",
       "              gamma=None, grow_policy=None, importance_type=None,\n",
       "              interaction_constraints=None, learning_rate=None, max_bin=None,\n",
       "              max_cat_threshold=None, max_cat_to_onehot=None,\n",
       "              max_delta_step=None, max_depth=None, max_leaves=None,\n",
       "              min_child_weight=None, missing=nan, monotone_constraints=None,\n",
       "              multi_strategy=None, n_estimators=None, n_jobs=None,\n",
       "              num_parallel_tree=None, random_state=None, ...)</pre><b>In a Jupyter environment, please rerun this cell to show the HTML representation or trust the notebook. <br />On GitHub, the HTML representation is unable to render, please try loading this page with nbviewer.org.</b></div><div class=\"sk-container\" hidden><div class=\"sk-item\"><div class=\"sk-estimator sk-toggleable\"><input class=\"sk-toggleable__control sk-hidden--visually\" id=\"sk-estimator-id-1\" type=\"checkbox\" checked><label for=\"sk-estimator-id-1\" class=\"sk-toggleable__label sk-toggleable__label-arrow\">XGBClassifier</label><div class=\"sk-toggleable__content\"><pre>XGBClassifier(base_score=None, booster=None, callbacks=None,\n",
       "              colsample_bylevel=None, colsample_bynode=None,\n",
       "              colsample_bytree=None, device=None, early_stopping_rounds=None,\n",
       "              enable_categorical=False, eval_metric=None, feature_types=None,\n",
       "              gamma=None, grow_policy=None, importance_type=None,\n",
       "              interaction_constraints=None, learning_rate=None, max_bin=None,\n",
       "              max_cat_threshold=None, max_cat_to_onehot=None,\n",
       "              max_delta_step=None, max_depth=None, max_leaves=None,\n",
       "              min_child_weight=None, missing=nan, monotone_constraints=None,\n",
       "              multi_strategy=None, n_estimators=None, n_jobs=None,\n",
       "              num_parallel_tree=None, random_state=None, ...)</pre></div></div></div></div></div>"
      ],
      "text/plain": [
       "XGBClassifier(base_score=None, booster=None, callbacks=None,\n",
       "              colsample_bylevel=None, colsample_bynode=None,\n",
       "              colsample_bytree=None, device=None, early_stopping_rounds=None,\n",
       "              enable_categorical=False, eval_metric=None, feature_types=None,\n",
       "              gamma=None, grow_policy=None, importance_type=None,\n",
       "              interaction_constraints=None, learning_rate=None, max_bin=None,\n",
       "              max_cat_threshold=None, max_cat_to_onehot=None,\n",
       "              max_delta_step=None, max_depth=None, max_leaves=None,\n",
       "              min_child_weight=None, missing=nan, monotone_constraints=None,\n",
       "              multi_strategy=None, n_estimators=None, n_jobs=None,\n",
       "              num_parallel_tree=None, random_state=None, ...)"
      ]
     },
     "execution_count": 12,
     "metadata": {},
     "output_type": "execute_result"
    }
   ],
   "source": [
    "# Train XGBoost\n",
    "model = XGBClassifier()\n",
    "model.fit(trainX, trainy)"
   ]
  },
  {
   "cell_type": "markdown",
   "id": "fd1581da",
   "metadata": {},
   "source": [
    "## 4. Testing model"
   ]
  },
  {
   "cell_type": "code",
   "execution_count": 13,
   "id": "b8d2b5f9",
   "metadata": {},
   "outputs": [],
   "source": [
    "from sklearn.metrics import roc_auc_score, accuracy_score"
   ]
  },
  {
   "cell_type": "code",
   "execution_count": 14,
   "id": "5509af39",
   "metadata": {},
   "outputs": [],
   "source": [
    "roc_auc_list = []"
   ]
  },
  {
   "cell_type": "code",
   "execution_count": 15,
   "id": "37225cd1",
   "metadata": {},
   "outputs": [],
   "source": [
    "forecast_hors = list(range(num_of_future_indexes))"
   ]
  },
  {
   "cell_type": "code",
   "execution_count": 16,
   "id": "7e28a301",
   "metadata": {},
   "outputs": [],
   "source": [
    "for horizon in forecast_hors:\n",
    "    tmp_roc_auc_list = []\n",
    "    \n",
    "    for ind in range((x_max - x_min)*(y_max - y_min)):\n",
    "        testX, testy = test_by_point[ind][:, :-num_of_future_indexes], test_by_point[ind][:, -num_of_future_indexes:]\n",
    "        pred = model.predict(testX)    \n",
    "        roc_auc = roc_auc_score(testy[:, horizon], pred[:, horizon])\n",
    "        tmp_roc_auc_list.append(roc_auc)\n",
    "    \n",
    "    median_roc_auc = np.median(tmp_roc_auc_list)\n",
    "    roc_auc_list.append(median_roc_auc)"
   ]
  },
  {
   "cell_type": "code",
   "execution_count": 17,
   "id": "af5310f7",
   "metadata": {},
   "outputs": [
    {
     "name": "stdout",
     "output_type": "stream",
     "text": [
      "ROC AUC for [ 1  2  3  4  5  6  7  8  9 10 11 12] months forecast\n",
      "[0.9081 0.8399 0.7897 0.7549 0.7171 0.6795 0.6495 0.6187 0.5845 0.5399\n",
      " 0.5128 0.5079]\n"
     ]
    }
   ],
   "source": [
    "print(f\"ROC AUC for {np.arange(1, num_of_future_indexes+1)} months forecast\")\n",
    "print(np.round(roc_auc_list, 4))"
   ]
  }
 ],
 "metadata": {
  "kernelspec": {
   "display_name": "test_env",
   "language": "python",
   "name": "python3"
  },
  "language_info": {
   "codemirror_mode": {
    "name": "ipython",
    "version": 3
   },
   "file_extension": ".py",
   "mimetype": "text/x-python",
   "name": "python",
   "nbconvert_exporter": "python",
   "pygments_lexer": "ipython3",
   "version": "3.8.18"
  }
 },
 "nbformat": 4,
 "nbformat_minor": 5
}
