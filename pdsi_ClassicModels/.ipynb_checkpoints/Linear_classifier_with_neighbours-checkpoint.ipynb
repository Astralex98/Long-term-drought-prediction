{
 "cells": [
  {
   "cell_type": "markdown",
   "id": "f83f3117",
   "metadata": {},
   "source": [
    "## 1. Read raw data"
   ]
  },
  {
   "cell_type": "code",
   "execution_count": null,
   "id": "eb0157e2",
   "metadata": {},
   "outputs": [],
   "source": [
    "import pandas as pd\n",
    "import numpy as np\n",
    "import torch\n",
    "from xgboost import XGBClassifier\n",
    "\n",
    "# Import class for dataset creating\n",
    "from xgboost_data_creater.create_dataset_for_one_model_with_neighbours import AllPointsDatasetCreater"
   ]
  },
  {
   "cell_type": "code",
   "execution_count": null,
   "id": "1569a65c",
   "metadata": {},
   "outputs": [],
   "source": [
    "torch_data = torch.load(\"data/pdsi_CentralKZ.csv\")"
   ]
  },
  {
   "cell_type": "code",
   "execution_count": null,
   "id": "37f55951",
   "metadata": {},
   "outputs": [],
   "source": [
    "numpy_data = torch_data.numpy()"
   ]
  },
  {
   "cell_type": "code",
   "execution_count": null,
   "id": "229686e8",
   "metadata": {},
   "outputs": [],
   "source": [
    "numpy_data.shape"
   ]
  },
  {
   "cell_type": "markdown",
   "id": "770e723e",
   "metadata": {},
   "source": [
    "## 2. Preparing data"
   ]
  },
  {
   "cell_type": "code",
   "execution_count": null,
   "id": "acf029bd",
   "metadata": {},
   "outputs": [],
   "source": [
    "hist_len = 2\n",
    "num_of_future_indexes = 12\n",
    "x_min = 1\n",
    "x_max = numpy_data.shape[1]\n",
    "y_min = 1\n",
    "y_max = numpy_data.shape[2]\n",
    "pdsi_threshold = -2\n",
    "filter_size = (1,1)\n",
    "data_creater = AllPointsDatasetCreater(numpy_data, history_len = hist_len, \n",
    "                                       num_of_future_indexes = num_of_future_indexes, \n",
    "                                       time_border = int(0.7 * numpy_data.shape[0]),\n",
    "                                       x_min = x_min, x_max = x_max, y_min = y_min, y_max = y_max,\n",
    "                                       filter_size = filter_size,\n",
    "                                       pdsi_threshold = pdsi_threshold)"
   ]
  },
  {
   "cell_type": "code",
   "execution_count": null,
   "id": "e09094ed",
   "metadata": {},
   "outputs": [],
   "source": [
    "%%time\n",
    "data_creater.create_train_and_test_datasets()"
   ]
  },
  {
   "cell_type": "code",
   "execution_count": null,
   "id": "5190d26a",
   "metadata": {},
   "outputs": [],
   "source": [
    "train = data_creater.get_train_array()"
   ]
  },
  {
   "cell_type": "code",
   "execution_count": null,
   "id": "3e775a38",
   "metadata": {},
   "outputs": [],
   "source": [
    "test_by_point = data_creater.get_test_array_by_points()"
   ]
  },
  {
   "cell_type": "code",
   "execution_count": null,
   "id": "27106145",
   "metadata": {},
   "outputs": [],
   "source": [
    "# Separate data and target from each other.\n",
    "trainX, trainy = train[:, :-num_of_future_indexes], train[:, -num_of_future_indexes:]"
   ]
  },
  {
   "cell_type": "code",
   "execution_count": null,
   "id": "3adf57c8",
   "metadata": {},
   "outputs": [],
   "source": [
    "trainX.shape"
   ]
  },
  {
   "cell_type": "code",
   "execution_count": null,
   "id": "3901220d",
   "metadata": {},
   "outputs": [],
   "source": [
    "trainy.shape"
   ]
  },
  {
   "cell_type": "markdown",
   "id": "b1c82c37",
   "metadata": {},
   "source": [
    "## 3. Fitting XGBoost"
   ]
  },
  {
   "cell_type": "code",
   "execution_count": null,
   "id": "5704d49e",
   "metadata": {},
   "outputs": [],
   "source": [
    "%%time\n",
    "### Train XGBoost\n",
    "model = XGBClassifier()\n",
    "model.fit(trainX, trainy)"
   ]
  },
  {
   "cell_type": "markdown",
   "id": "fd1581da",
   "metadata": {},
   "source": [
    "## 4. Testing model"
   ]
  },
  {
   "cell_type": "code",
   "execution_count": null,
   "id": "b8d2b5f9",
   "metadata": {},
   "outputs": [],
   "source": [
    "from sklearn.metrics import roc_auc_score, accuracy_score"
   ]
  },
  {
   "cell_type": "code",
   "execution_count": null,
   "id": "5509af39",
   "metadata": {},
   "outputs": [],
   "source": [
    "roc_auc_list = []"
   ]
  },
  {
   "cell_type": "code",
   "execution_count": null,
   "id": "37225cd1",
   "metadata": {},
   "outputs": [],
   "source": [
    "forecast_hors = list(range(num_of_future_indexes))"
   ]
  },
  {
   "cell_type": "code",
   "execution_count": null,
   "id": "7e28a301",
   "metadata": {},
   "outputs": [],
   "source": [
    "for horizon in forecast_hors:\n",
    "    tmp_roc_auc_list = []\n",
    "    \n",
    "    for ind in range((x_max - x_min)*(y_max - y_min)):\n",
    "        testX, testy = test_by_point[ind][:, :-num_of_future_indexes], test_by_point[ind][:, -num_of_future_indexes:]\n",
    "        pred = model.predict(testX)    \n",
    "        roc_auc = roc_auc_score(testy[:, horizon], pred[:, horizon])\n",
    "        tmp_roc_auc_list.append(roc_auc)\n",
    "    \n",
    "    median_roc_auc = np.median(tmp_roc_auc_list)\n",
    "    roc_auc_list.append(median_roc_auc)"
   ]
  },
  {
   "cell_type": "code",
   "execution_count": null,
   "id": "af5310f7",
   "metadata": {},
   "outputs": [],
   "source": [
    "np.round(roc_auc_list, 2)"
   ]
  },
  {
   "cell_type": "code",
   "execution_count": null,
   "id": "55b57aa2",
   "metadata": {},
   "outputs": [],
   "source": []
  }
 ],
 "metadata": {
  "kernelspec": {
   "display_name": "weather",
   "language": "python",
   "name": "weather"
  },
  "language_info": {
   "codemirror_mode": {
    "name": "ipython",
    "version": 3
   },
   "file_extension": ".py",
   "mimetype": "text/x-python",
   "name": "python",
   "nbconvert_exporter": "python",
   "pygments_lexer": "ipython3",
   "version": "3.9.13"
  }
 },
 "nbformat": 4,
 "nbformat_minor": 5
}
